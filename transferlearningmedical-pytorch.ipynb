{
 "cells": [
  {
   "cell_type": "code",
   "execution_count": 30,
   "metadata": {
    "_cell_guid": "b1076dfc-b9ad-4769-8c92-a6c4dae69d19",
    "_uuid": "8f2839f25d086af736a60e9eeb907d3b93b6e0e5",
    "execution": {
     "iopub.execute_input": "2025-02-24T04:33:01.448346Z",
     "iopub.status.busy": "2025-02-24T04:33:01.448016Z",
     "iopub.status.idle": "2025-02-24T04:33:01.454427Z",
     "shell.execute_reply": "2025-02-24T04:33:01.453300Z",
     "shell.execute_reply.started": "2025-02-24T04:33:01.448310Z"
    },
    "trusted": true
   },
   "outputs": [
    {
     "name": "stdout",
     "output_type": "stream",
     "text": [
      "done\n"
     ]
    }
   ],
   "source": [
    "\n",
    "##utiliti\n",
    "import time\n",
    "import copy\n",
    "import itertools\n",
    "##data,visul\n",
    "import matplotlib.pyplot as plt\n",
    "import pandas as pd\n",
    "import numpy as np\n",
    "import sklearn\n",
    "import sklearn.metrics\n",
    "##deep learning\n",
    "import torch\n",
    "from torch import nn, optim\n",
    "from torchvision import datasets, transforms\n",
    "from torch.utils.data import DataLoader, random_split\n",
    "from timm.data import resolve_model_data_config, create_transform\n",
    "from torchinfo import summary\n",
    "import timm\n",
    "print(\"done\")"
   ]
  },
  {
   "cell_type": "markdown",
   "metadata": {},
   "source": [
    "# A.FUNCTION DEFINE"
   ]
  },
  {
   "cell_type": "markdown",
   "metadata": {},
   "source": [
    "## A.1 DATA PREPARE"
   ]
  },
  {
   "cell_type": "code",
   "execution_count": 31,
   "metadata": {
    "execution": {
     "iopub.execute_input": "2025-02-24T04:33:01.459409Z",
     "iopub.status.busy": "2025-02-24T04:33:01.459183Z",
     "iopub.status.idle": "2025-02-24T04:33:01.472990Z",
     "shell.execute_reply": "2025-02-24T04:33:01.472137Z",
     "shell.execute_reply.started": "2025-02-24T04:33:01.459390Z"
    },
    "trusted": true
   },
   "outputs": [
    {
     "name": "stdout",
     "output_type": "stream",
     "text": [
      "done\n"
     ]
    }
   ],
   "source": [
    "# -------------------------\n",
    "# 1. Chuẩn bị transform\n",
    "# -------------------------\n",
    "def get_transforms_timm(model_name, is_training=True):\n",
    "    model = timm.create_model(model_name, pretrained=True, num_classes=0)\n",
    "    model = model.eval()  # Chế độ inference\n",
    "    data_config = resolve_model_data_config(model)  # Lấy config phù hợp với model\n",
    "    transform = create_transform(**data_config, is_training=is_training)\n",
    "    return transform\n",
    "\n",
    "\n",
    "print (\"done\")\n"
   ]
  },
  {
   "cell_type": "code",
   "execution_count": 32,
   "metadata": {
    "execution": {
     "iopub.execute_input": "2025-02-24T04:33:01.474250Z",
     "iopub.status.busy": "2025-02-24T04:33:01.474022Z",
     "iopub.status.idle": "2025-02-24T04:33:01.488597Z",
     "shell.execute_reply": "2025-02-24T04:33:01.487802Z",
     "shell.execute_reply.started": "2025-02-24T04:33:01.474231Z"
    },
    "trusted": true
   },
   "outputs": [
    {
     "name": "stdout",
     "output_type": "stream",
     "text": [
      "done\n"
     ]
    }
   ],
   "source": [
    "# -------------------------\n",
    "# 2. Load dataset và chia tập\n",
    "# -------------------------\n",
    "def load_dataset(dataset_path, train_transform, val_transform, split_ratio=[0.8, 0.1, 0.1]):\n",
    "    # Tạo dataset đầy đủ với transform của train (mặc định)\n",
    "    full_dataset = datasets.ImageFolder(root=dataset_path, transform=train_transform)\n",
    "    dataset_size = len(full_dataset)\n",
    "    \n",
    "    \n",
    "    if len(split_ratio) == 2:\n",
    "        train_ratio, val_ratio = split_ratio\n",
    "        test_ratio = 1.0 - (train_ratio + val_ratio)\n",
    "        ratios = [train_ratio, val_ratio, test_ratio]\n",
    "    elif len(split_ratio) == 3:\n",
    "        ratios = split_ratio\n",
    "    else:\n",
    "        ratios = [0.8, 0.1, 0.1]\n",
    "    \n",
    "    # Tính số lượng mẫu cho từng tập theo tỷ lệ\n",
    "    sizes = [int(r * dataset_size) for r in ratios]\n",
    "    # Điều chỉnh kích thước của tập cuối (test) để đảm bảo tổng bằng dataset_size\n",
    "    sizes[-1] = dataset_size - sum(sizes[:-1])\n",
    "    \n",
    "    # Phân chia dataset thành 3 phần: train, validation và test\n",
    "    train_set, val_set, test_set = random_split(full_dataset, sizes)\n",
    "    \n",
    "    # Gán transform mới cho tập validation và test\n",
    "    val_set.dataset.transform = val_transform\n",
    "    test_set.dataset.transform = val_transform\n",
    "    \n",
    "    return train_set, val_set, test_set, len(full_dataset.classes)\n",
    "def get_dataloaders(train_set, val_set, test_set, batch_size=32):\n",
    "    train_loader = DataLoader(train_set, batch_size=batch_size, shuffle=True, num_workers=4)\n",
    "    val_loader = DataLoader(val_set, batch_size=batch_size, shuffle=False, num_workers=4)\n",
    "    test_loader = DataLoader(test_set, batch_size=batch_size, shuffle=False, num_workers=4)\n",
    "    return train_loader, val_loader, test_loader\n",
    "print(\"done\")\n"
   ]
  },
  {
   "cell_type": "markdown",
   "metadata": {},
   "source": [
    "## A.2 MODEL PREPARE"
   ]
  },
  {
   "cell_type": "code",
   "execution_count": 33,
   "metadata": {
    "execution": {
     "iopub.execute_input": "2025-02-24T04:33:01.532539Z",
     "iopub.status.busy": "2025-02-24T04:33:01.532343Z",
     "iopub.status.idle": "2025-02-24T04:33:01.538816Z",
     "shell.execute_reply": "2025-02-24T04:33:01.537875Z",
     "shell.execute_reply.started": "2025-02-24T04:33:01.532522Z"
    },
    "trusted": true
   },
   "outputs": [
    {
     "name": "stdout",
     "output_type": "stream",
     "text": [
      "done\n"
     ]
    }
   ],
   "source": [
    "class MyModel(nn.Module):\n",
    "    def __init__(self, base_model, num_classes):\n",
    "        super(MyModel, self).__init__()\n",
    "        self.base_model = base_model\n",
    "\n",
    "        # Lấy số feature cuối cùng\n",
    "        self.embed_dim = base_model.num_features\n",
    "\n",
    "        # Tạo classifier\n",
    "        self.classifier = nn.Linear(self.embed_dim, num_classes)\n",
    "\n",
    "    def forward(self, x):\n",
    "        features = self.base_model.forward_features(x)  # Hoạt động cho cả ViT & ResNet\n",
    "        \n",
    "        # Nếu là ViT, feature shape (B, num_tokens, embed_dim) → Lấy mean trên token\n",
    "        if features.dim() == 3: \n",
    "            pooled = features.mean(dim=1)\n",
    "        else:  # CNN có shape (B, C, H, W) → Dùng global average pooling\n",
    "            pooled = features.mean(dim=[2, 3])     \n",
    "        logits = self.classifier(pooled)\n",
    "        return logits\n",
    "def get_model(num_classes, basemodel, device, freeze=False):\n",
    "    base_model = timm.create_model(basemodel, pretrained=True, num_classes=0) \n",
    "    if freeze==True:\n",
    "        for param in base_model.parameters():\n",
    "            param.requires_grad = False\n",
    "    \n",
    "    model = MyModel(base_model, num_classes).to(device)\n",
    "    return model\n",
    "\n",
    "print(\"done\")\n"
   ]
  },
  {
   "cell_type": "markdown",
   "metadata": {},
   "source": [
    "## A.3 TRAINING PROCEDURE"
   ]
  },
  {
   "cell_type": "code",
   "execution_count": 34,
   "metadata": {
    "execution": {
     "iopub.execute_input": "2025-02-24T04:33:01.543946Z",
     "iopub.status.busy": "2025-02-24T04:33:01.543681Z",
     "iopub.status.idle": "2025-02-24T04:33:01.560159Z",
     "shell.execute_reply": "2025-02-24T04:33:01.559430Z",
     "shell.execute_reply.started": "2025-02-24T04:33:01.543926Z"
    },
    "trusted": true
   },
   "outputs": [
    {
     "name": "stdout",
     "output_type": "stream",
     "text": [
      "done\n"
     ]
    }
   ],
   "source": [
    "def train_model(model, train_loader, val_loader, device, num_epochs=10, \n",
    "                threshold=0.9, lr_patience=2, stop_patience=4, factor=0.5):\n",
    "    \"\"\"\n",
    "    Huấn luyện model với các kỹ thuật:\n",
    "      - LR Scheduling: Điều chỉnh learning rate khi không cải thiện theo chỉ số được theo dõi\n",
    "      - Early Stopping: Dừng training nếu đã điều chỉnh LR quá số lần cho phép\n",
    "      - Checkpoint: Lưu lại trạng thái model tốt nhất dựa trên validation loss\n",
    "      \n",
    "    Tham số:\n",
    "      - threshold: ngưỡng để lựa chọn metric theo training accuracy hoặc validation loss\n",
    "      - lr_patience: số epoch không cải thiện trước khi giảm LR\n",
    "      - stop_patience: số lần điều chỉnh LR liên tiếp không cải thiện trước khi dừng training\n",
    "      - factor: hệ số nhân để giảm learning rate (new_lr = old_lr * factor)\n",
    "    \"\"\"\n",
    "    # Khai báo loss và optimizer\n",
    "    criterion = nn.CrossEntropyLoss()\n",
    "    optimizer = torch.optim.Adamax(model.parameters(), lr=0.001)\n",
    "    \n",
    "    # Các list lưu lại kết quả\n",
    "    train_losses, train_accs, val_losses, val_accs = [], [], [], []\n",
    "    \n",
    "    # Checkpoint: lưu validation loss tốt nhất (và model state)\n",
    "    best_val_loss_checkpoint = float('inf')\n",
    "    best_model_state = copy.deepcopy(model.state_dict())\n",
    "    best_epoch = 0\n",
    "\n",
    "    # Các biến dùng cho LR scheduling:\n",
    "    best_train_acc = 0.0          # theo dõi training accuracy tốt nhất khi train acc < threshold\n",
    "    best_val_loss_lr = float('inf')  # theo dõi validation loss tốt nhất khi train acc >= threshold\n",
    "    lr_adjust_counter = 0         # đếm số epoch không cải thiện\n",
    "    lr_adjust_count = 0           # số lần điều chỉnh LR\n",
    "\n",
    "    # In header tương tự như log của TensorFlow callback\n",
    "    header = f'{\"Epoch\":^6s} {\"Loss\":^8s} {\"Acc\":^8s} {\"V_loss\":^10s} {\"V_acc\":^8s} {\"LR\":^10s} {\"Next LR\":^10s} {\"Monitor\":^10s} {\"%Improv\":^10s} {\"Duration\":^10s}'\n",
    "    print(header)\n",
    "    \n",
    "    total_start = time.time()\n",
    "    \n",
    "    for epoch in range(num_epochs):\n",
    "        epoch_start = time.time()\n",
    "        model.train()\n",
    "        running_loss = 0.0\n",
    "        running_corrects = 0\n",
    "        total_train = 0\n",
    "        \n",
    "        # Huấn luyện theo từng batch\n",
    "        for inputs, labels in train_loader:\n",
    "            inputs, labels = inputs.to(device), labels.to(device)\n",
    "            optimizer.zero_grad()\n",
    "            outputs = model(inputs)\n",
    "            loss = criterion(outputs, labels)\n",
    "            loss.backward()\n",
    "            optimizer.step()\n",
    "            \n",
    "            running_loss += loss.item() * inputs.size(0)\n",
    "            running_corrects += (outputs.argmax(dim=1) == labels).sum().item()\n",
    "            total_train += inputs.size(0)\n",
    "        \n",
    "        epoch_train_loss = running_loss / total_train\n",
    "        epoch_train_acc = running_corrects / total_train\n",
    "        train_losses.append(epoch_train_loss)\n",
    "        train_accs.append(epoch_train_acc)\n",
    "        \n",
    "        # Đánh giá trên tập validation\n",
    "        model.eval()\n",
    "        running_loss_val = 0.0\n",
    "        running_corrects_val = 0\n",
    "        total_val = 0\n",
    "        with torch.no_grad():\n",
    "            for inputs, labels in val_loader:\n",
    "                inputs, labels = inputs.to(device), labels.to(device)\n",
    "                outputs = model(inputs)\n",
    "                loss = criterion(outputs, labels)\n",
    "                running_loss_val += loss.item() * inputs.size(0)\n",
    "                running_corrects_val += (outputs.argmax(dim=1) == labels).sum().item()\n",
    "                total_val += inputs.size(0)\n",
    "                \n",
    "        epoch_val_loss = running_loss_val / total_val\n",
    "        epoch_val_acc = running_corrects_val / total_val\n",
    "        val_losses.append(epoch_val_loss)\n",
    "        val_accs.append(epoch_val_acc)\n",
    "        \n",
    "        # Lấy learning rate hiện tại trước khi điều chỉnh\n",
    "        current_lr = optimizer.param_groups[0]['lr']\n",
    "        next_lr = current_lr  # mặc định sẽ không thay đổi\n",
    "        monitor = ''\n",
    "        improvement = 0.0  # % cải thiện so với giá trị tốt nhất trước đó\n",
    "        \n",
    "        # Nếu training accuracy dưới threshold thì theo dõi training accuracy,\n",
    "        # ngược lại thì theo dõi validation loss.\n",
    "        if epoch_train_acc < threshold:\n",
    "            monitor = 'accuracy'\n",
    "            if best_train_acc > 0:\n",
    "                improvement = (epoch_train_acc - best_train_acc) * 100 / best_train_acc\n",
    "            else:\n",
    "                improvement = 0.0\n",
    "            if epoch_train_acc > best_train_acc:\n",
    "                best_train_acc = epoch_train_acc\n",
    "                lr_adjust_counter = 0\n",
    "                # Cập nhật checkpoint nếu validation loss cũng cải thiện\n",
    "                if epoch_val_loss < best_val_loss_checkpoint:\n",
    "                    best_val_loss_checkpoint = epoch_val_loss\n",
    "                    best_model_state = copy.deepcopy(model.state_dict())\n",
    "                    best_epoch = epoch + 1\n",
    "            else:\n",
    "                lr_adjust_counter += 1\n",
    "                if lr_adjust_counter >= lr_patience:\n",
    "                    next_lr = current_lr * factor\n",
    "                    for param_group in optimizer.param_groups:\n",
    "                        param_group['lr'] = next_lr\n",
    "                    print(f\"Reducing LR from {current_lr:.6f} to {next_lr:.6f} due to lack of train accuracy improvement.\")\n",
    "                    lr_adjust_counter = 0\n",
    "                    lr_adjust_count += 1\n",
    "        else:\n",
    "            monitor = 'val_loss'\n",
    "            if best_val_loss_lr < float('inf'):\n",
    "                improvement = (best_val_loss_lr - epoch_val_loss) * 100 / best_val_loss_lr\n",
    "            else:\n",
    "                improvement = 0.0\n",
    "            if epoch_val_loss < best_val_loss_lr:\n",
    "                best_val_loss_lr = epoch_val_loss\n",
    "                lr_adjust_counter = 0\n",
    "                best_model_state = copy.deepcopy(model.state_dict())\n",
    "                best_epoch = epoch + 1\n",
    "            else:\n",
    "                lr_adjust_counter += 1\n",
    "                if lr_adjust_counter >= lr_patience:\n",
    "                    next_lr = current_lr * factor\n",
    "                    for param_group in optimizer.param_groups:\n",
    "                        param_group['lr'] = next_lr\n",
    "                    print(f\"Reducing LR from {current_lr:.6f} to {next_lr:.6f} due to lack of validation loss improvement.\")\n",
    "                    lr_adjust_counter = 0\n",
    "                    lr_adjust_count += 1\n",
    "        \n",
    "        # Early stopping nếu số lần điều chỉnh LR vượt quá giới hạn\n",
    "        if lr_adjust_count >= stop_patience:\n",
    "            print(f\"Early stopping: LR adjusted {lr_adjust_count} times without improvement.\")\n",
    "            break\n",
    "        \n",
    "        epoch_duration = time.time() - epoch_start\n",
    "        # In log chi tiết cho epoch này\n",
    "        print(f\"{epoch+1:^6d} {epoch_train_loss:^8.3f} {epoch_train_acc*100:^8.3f} {epoch_val_loss:^10.5f} {epoch_val_acc*100:^8.3f} {current_lr:^10.5f} {next_lr:^10.5f} {monitor:^10s} {improvement:^10.2f} {epoch_duration:^10.2f}\")\n",
    "    \n",
    "    total_duration = time.time() - total_start\n",
    "    hours = int(total_duration // 3600)\n",
    "    minutes = int((total_duration % 3600) // 60)\n",
    "    seconds = total_duration % 60\n",
    "    print(f\"Total training time: {hours}h {minutes}m {seconds:.2f}s\")\n",
    "    \n",
    "    # Sau khi huấn luyện, load lại trạng thái model tốt nhất\n",
    "    model.load_state_dict(best_model_state)\n",
    "    print(f\"Best model from epoch {best_epoch} restored.\")\n",
    "\n",
    "    return train_losses, train_accs, val_losses, val_accs\n",
    "\n",
    "print(\"done\")"
   ]
  },
  {
   "cell_type": "markdown",
   "metadata": {},
   "source": [
    "## A.4 RESULT PROCESSING ( PLOT TRAINING PROCESS , EVALUTION)"
   ]
  },
  {
   "cell_type": "markdown",
   "metadata": {},
   "source": [
    "### A.4.1 PLOT TRAINING PROCESS"
   ]
  },
  {
   "cell_type": "code",
   "execution_count": 35,
   "metadata": {
    "execution": {
     "iopub.execute_input": "2025-02-24T04:33:01.561403Z",
     "iopub.status.busy": "2025-02-24T04:33:01.561121Z",
     "iopub.status.idle": "2025-02-24T04:33:01.579090Z",
     "shell.execute_reply": "2025-02-24T04:33:01.578170Z",
     "shell.execute_reply.started": "2025-02-24T04:33:01.561383Z"
    },
    "trusted": true
   },
   "outputs": [
    {
     "name": "stdout",
     "output_type": "stream",
     "text": [
      "done\n"
     ]
    }
   ],
   "source": [
    "def plot_metrics(train_losses, train_accs, val_losses, val_accs,filename='trainingprocess.png'):\n",
    "    plt.figure(figsize=(12, 5))\n",
    "    plt.subplot(1,2,1)\n",
    "    plt.plot(train_losses, marker='o', label='Train Loss')\n",
    "    plt.plot(val_losses, marker='o', label='Val Loss')\n",
    "    plt.xlabel('Epoch')\n",
    "    plt.ylabel('Loss')\n",
    "    plt.legend()\n",
    "    plt.grid(True)\n",
    "    \n",
    "    plt.subplot(1,2,2)\n",
    "    plt.plot([acc*100 for acc in train_accs], marker='o', label='Train Accuracy')\n",
    "    plt.plot([acc*100 for acc in val_accs], marker='o', label='Val Accuracy')\n",
    "    plt.xlabel('Epoch')\n",
    "    plt.ylabel('Accuracy (%)')\n",
    "    plt.legend()\n",
    "    plt.grid(True)\n",
    "    plt.tight_layout()\n",
    "    plt.savefig(filename)\n",
    "    print(f\"✅ Training process image saved to {filename}\")\n",
    "    plt.show()\n",
    "print(\"done\")"
   ]
  },
  {
   "cell_type": "markdown",
   "metadata": {},
   "source": [
    "### A.4.2 CALCULATE FINAL ACC+LOSS"
   ]
  },
  {
   "cell_type": "code",
   "execution_count": 36,
   "metadata": {
    "execution": {
     "iopub.execute_input": "2025-02-24T04:33:01.580895Z",
     "iopub.status.busy": "2025-02-24T04:33:01.580578Z",
     "iopub.status.idle": "2025-02-24T04:33:01.596991Z",
     "shell.execute_reply": "2025-02-24T04:33:01.596221Z",
     "shell.execute_reply.started": "2025-02-24T04:33:01.580872Z"
    },
    "trusted": true
   },
   "outputs": [
    {
     "name": "stdout",
     "output_type": "stream",
     "text": [
      "done\n"
     ]
    }
   ],
   "source": [
    "def test_model(model, test_loader):\n",
    "    device = torch.device(\"cuda\" if torch.cuda.is_available() else \"cpu\")\n",
    "    model.to(device)\n",
    "    model.eval()\n",
    "    criterion = nn.CrossEntropyLoss()\n",
    "    total, correct, running_loss = 0, 0, 0.0\n",
    "    with torch.no_grad():\n",
    "        for inputs, labels in test_loader:\n",
    "            inputs, labels = inputs.to(device), labels.to(device)\n",
    "            outputs = model(inputs)\n",
    "            loss = criterion(outputs, labels)\n",
    "            running_loss += loss.item() * inputs.size(0)\n",
    "            _, preds = torch.max(outputs, 1)\n",
    "            correct += (preds == labels).sum().item()\n",
    "            total += inputs.size(0)\n",
    "    test_loss = running_loss / total\n",
    "    test_acc = (correct / total)*100\n",
    "    #print(f\"Test Loss: {test_loss:.4f}, Accuracy: {test_acc*100:.2f}%\")\n",
    "    return test_loss , test_acc\n",
    "print(\"done\")"
   ]
  },
  {
   "cell_type": "markdown",
   "metadata": {},
   "source": [
    "### A.4.3 CONFUSION MATRIX ,CLASSIFICATION REPORT"
   ]
  },
  {
   "cell_type": "code",
   "execution_count": 37,
   "metadata": {
    "execution": {
     "iopub.execute_input": "2025-02-24T04:33:01.598589Z",
     "iopub.status.busy": "2025-02-24T04:33:01.598350Z",
     "iopub.status.idle": "2025-02-24T04:33:01.613703Z",
     "shell.execute_reply": "2025-02-24T04:33:01.613105Z",
     "shell.execute_reply.started": "2025-02-24T04:33:01.598570Z"
    },
    "trusted": true
   },
   "outputs": [],
   "source": [
    "def evaluate_model(model, data_loader, class_names, img_name='confusion-matrix.png',file_name='classificationreport.txt'):\n",
    "    \"\"\"\n",
    "    Hàm này thực hiện dự đoán, tạo confusion matrix và classification report.\n",
    "    \n",
    "    Args:\n",
    "        model: Mô hình đã train.\n",
    "        data_loader: DataLoader chứa dữ liệu test.\n",
    "        class_names: Danh sách tên các lớp.\n",
    "        filename: Tên file để lưu confusion matrix.\n",
    "    \"\"\"\n",
    "    # Bước 1: Predict\n",
    "    model.eval()  # Chuyển sang chế độ đánh giá\n",
    "    y_pred, y_true = [], []\n",
    "\n",
    "    with torch.no_grad():  \n",
    "        for inputs, labels in data_loader:\n",
    "            inputs, labels = inputs.to(device), labels.to(device)  # Chuyển về GPU nếu có\n",
    "            \n",
    "            outputs = model(inputs)  # Dự đoán logits\n",
    "            preds = torch.argmax(outputs, dim=1)  # Lấy class có xác suất cao nhất\n",
    "\n",
    "            y_pred.extend(preds.cpu().numpy())\n",
    "            y_true.extend(labels.cpu().numpy())\n",
    "    \n",
    "    # Bước 2: Tạo confusion matrix\n",
    "    cm = sklearn.metrics.confusion_matrix(y_true, y_pred)\n",
    "    \n",
    "    plt.figure(figsize=(10, 10))\n",
    "    plt.imshow(cm, interpolation='nearest', cmap=plt.cm.Blues)\n",
    "    plt.title('Confusion Matrix')\n",
    "    plt.colorbar()\n",
    "    \n",
    "    tick_marks = np.arange(len(class_names))\n",
    "    plt.xticks(tick_marks, class_names, rotation=45)\n",
    "    plt.yticks(tick_marks, class_names)\n",
    "    \n",
    "    thresh = cm.max() / 2.\n",
    "    for i, j in itertools.product(range(cm.shape[0]), range(cm.shape[1])):\n",
    "        plt.text(j, i, f\"{cm[i, j]}\", horizontalalignment='center', \n",
    "                 color='white' if cm[i, j] > thresh else 'black')\n",
    "    \n",
    "    plt.ylabel('True Label')\n",
    "    plt.xlabel('Predicted Label')\n",
    "    plt.tight_layout()\n",
    "    plt.savefig(img_name)\n",
    "    print(f\"✅ Confusion matrix image saved to {img_name}\")\n",
    "    plt.show() \n",
    "    # Bước 3: In classification report\n",
    "    report = sklearn.metrics.classification_report(y_true, y_pred, target_names=class_names)\n",
    "    print(report)\n",
    "    with open(file_name, \"w\") as f:\n",
    "        f.write(\"Confusion Matrix:\\n\")\n",
    "        f.write(np.array2string(cm) + \"\\n\")\n",
    "        f.write(\"\\nClassification Report:\\n\")\n",
    "        f.write(report) \n",
    "    print(f\"✅ Classification report saved to {file_name}\")\n",
    "    return y_pred, cm, report\n"
   ]
  },
  {
   "cell_type": "markdown",
   "metadata": {},
   "source": [
    "# B. FINE-TUNING"
   ]
  },
  {
   "cell_type": "markdown",
   "metadata": {},
   "source": [
    "**Dataset**\n",
    "* Covid (2.5k- 2 classes): '/kaggle/input/sarscov2-ctscan-dataset'\n",
    "* Lung cancer (15k- 3 classes):  '/kaggle/input/lung-cancer-histopathological-images'\n",
    "* Brain tumor (7k-4 classes): '/kaggle/input/brain-tumor-mri-dataset'\n",
    "\n",
    "**Model:**\n",
    "* DenseNet201 (20M) : 'densenet201.tv_in1k'\n",
    "* ResNet50 (25M):  'resnet50.a1_in1k'\n",
    "* ConvNeXt-T (28.5M): 'convnext_tiny.fb_in22k'\n",
    "* ViT-Small(22M):'vit_small_patch16_224.augreg_in21k'\n"
   ]
  },
  {
   "cell_type": "markdown",
   "metadata": {},
   "source": [
    "## B.1 MODEL + DATA + HYPERPARAMETER SELECTION "
   ]
  },
  {
   "cell_type": "code",
   "execution_count": null,
   "metadata": {
    "execution": {
     "iopub.execute_input": "2025-02-24T04:33:01.614683Z",
     "iopub.status.busy": "2025-02-24T04:33:01.614494Z",
     "iopub.status.idle": "2025-02-24T04:33:01.633452Z",
     "shell.execute_reply": "2025-02-24T04:33:01.632817Z",
     "shell.execute_reply.started": "2025-02-24T04:33:01.614667Z"
    },
    "trusted": true
   },
   "outputs": [],
   "source": [
    "dataset_path= '/kaggle/input/lung-cancer-histopathological-images' #dataset path in kaggle\n",
    "model_code=   'convnext_tiny.fb_in22k'#model code in timm\n",
    "dataset_name='Lungcancer' #name of dataset to saving\n",
    "model_name='ConvNeXt' #name of model to saving\n",
    "num_epochs=10 #number of epochs to run (data1=30 , data2=10 ,data3=)\n",
    "lr_patience=2 #patience before edit lr (data1=3 , data2=2)\n",
    "stop_patience=2 # times edit lr befor stop training (data1=3,data2=2)a\n",
    "is_freeze=False #model if freeze (not train parameter) or not\n",
    "device = torch.device(\"cuda\" if torch.cuda.is_available() else \"cpu\") #device to train CPU /GPU\n",
    "split_ratio=[0.8, 0.1, 0.1] # ratio of train-test-val \n",
    "batch_size=32 # batch size of data (data1=32)"
   ]
  },
  {
   "cell_type": "markdown",
   "metadata": {},
   "source": [
    "## B.2 DATA PREPARE"
   ]
  },
  {
   "cell_type": "code",
   "execution_count": 39,
   "metadata": {
    "execution": {
     "iopub.execute_input": "2025-02-24T04:33:01.634478Z",
     "iopub.status.busy": "2025-02-24T04:33:01.634161Z",
     "iopub.status.idle": "2025-02-24T04:33:08.209333Z",
     "shell.execute_reply": "2025-02-24T04:33:08.208412Z",
     "shell.execute_reply.started": "2025-02-24T04:33:01.634456Z"
    },
    "trusted": true
   },
   "outputs": [
    {
     "name": "stdout",
     "output_type": "stream",
     "text": [
      "done\n"
     ]
    }
   ],
   "source": [
    "train_transform = get_transforms_timm(model_code, is_training=True)\n",
    "val_transform = get_transforms_timm(model_code, is_training=False)\n",
    "train_set, val_set, test_set,num_classes = load_dataset(dataset_path, train_transform, val_transform,split_ratio=split_ratio)\n",
    "train_loader, val_loader, test_loader = get_dataloaders(train_set, val_set, test_set,batch_size=batch_size)\n",
    "print(\"done\")"
   ]
  },
  {
   "cell_type": "markdown",
   "metadata": {},
   "source": [
    "## B.3 MODEL DEFINE"
   ]
  },
  {
   "cell_type": "code",
   "execution_count": 40,
   "metadata": {
    "execution": {
     "iopub.execute_input": "2025-02-24T04:33:08.210365Z",
     "iopub.status.busy": "2025-02-24T04:33:08.210155Z",
     "iopub.status.idle": "2025-02-24T04:33:08.944614Z",
     "shell.execute_reply": "2025-02-24T04:33:08.943823Z",
     "shell.execute_reply.started": "2025-02-24T04:33:08.210347Z"
    },
    "trusted": true
   },
   "outputs": [
    {
     "data": {
      "text/plain": [
       "=========================================================================================================\n",
       "Layer (type:depth-idx)                                  Output Shape              Param #\n",
       "=========================================================================================================\n",
       "MyModel                                                 [1, 3]                    --\n",
       "├─ConvNeXt: 1-1                                         --                        1,536\n",
       "│    └─Sequential: 2-1                                  [1, 96, 56, 56]           --\n",
       "│    │    └─Conv2d: 3-1                                 [1, 96, 56, 56]           4,704\n",
       "│    │    └─LayerNorm2d: 3-2                            [1, 96, 56, 56]           192\n",
       "│    └─Sequential: 2-2                                  [1, 768, 7, 7]            --\n",
       "│    │    └─ConvNeXtStage: 3-3                          [1, 96, 56, 56]           237,888\n",
       "│    │    └─ConvNeXtStage: 3-4                          [1, 192, 28, 28]          992,256\n",
       "│    │    └─ConvNeXtStage: 3-5                          [1, 384, 14, 14]          11,112,960\n",
       "│    │    └─ConvNeXtStage: 3-6                          [1, 768, 7, 7]            15,470,592\n",
       "│    └─Identity: 2-3                                    [1, 768, 7, 7]            --\n",
       "├─Linear: 1-2                                           [1, 3]                    2,307\n",
       "=========================================================================================================\n",
       "Total params: 27,822,435\n",
       "Trainable params: 27,822,435\n",
       "Non-trainable params: 0\n",
       "Total mult-adds (M): 321.60\n",
       "=========================================================================================================\n",
       "Input size (MB): 0.60\n",
       "Forward/backward pass size (MB): 131.26\n",
       "Params size (MB): 111.26\n",
       "Estimated Total Size (MB): 243.12\n",
       "========================================================================================================="
      ]
     },
     "execution_count": 40,
     "metadata": {},
     "output_type": "execute_result"
    }
   ],
   "source": [
    "model = get_model(num_classes, model_code, device, freeze=is_freeze)\n",
    "summary(model, input_size=(1, 3, 224, 224))"
   ]
  },
  {
   "cell_type": "markdown",
   "metadata": {},
   "source": [
    "##  B.4 TRAINNG"
   ]
  },
  {
   "cell_type": "code",
   "execution_count": 41,
   "metadata": {
    "execution": {
     "iopub.execute_input": "2025-02-24T04:33:08.947313Z",
     "iopub.status.busy": "2025-02-24T04:33:08.947088Z",
     "iopub.status.idle": "2025-02-24T05:18:38.246845Z",
     "shell.execute_reply": "2025-02-24T05:18:38.245696Z",
     "shell.execute_reply.started": "2025-02-24T04:33:08.947294Z"
    },
    "trusted": true
   },
   "outputs": [
    {
     "name": "stdout",
     "output_type": "stream",
     "text": [
      "Epoch    Loss     Acc      V_loss    V_acc       LR      Next LR    Monitor    %Improv    Duration \n",
      "  1     0.248    90.775   0.11970    95.600   0.00100    0.00100    val_loss     0.00      273.26  \n",
      "  2     0.063    97.650   0.03648    98.867   0.00100    0.00100    val_loss    69.52      272.93  \n",
      "  3     0.039    98.550   0.01186    99.733   0.00100    0.00100    val_loss    67.49      272.65  \n",
      "  4     0.013    99.500   0.00575    99.733   0.00100    0.00100    val_loss    51.50      272.53  \n",
      "  5     0.010    99.700   0.11252    96.867   0.00100    0.00100    val_loss   -1856.00    273.08  \n",
      "  6     0.004    99.908   0.00314    99.800   0.00100    0.00100    val_loss    45.43      272.42  \n",
      "  7     0.000   100.000   0.00101   100.000   0.00100    0.00100    val_loss    67.93      273.71  \n",
      "  8     0.000   100.000   0.00050   100.000   0.00100    0.00100    val_loss    50.71      272.88  \n",
      "  9     0.000   100.000   0.00045   100.000   0.00100    0.00100    val_loss     9.63      273.01  \n",
      "  10    0.000   100.000   0.00040   100.000   0.00100    0.00100    val_loss    11.03      272.80  \n",
      "Total training time: 0h 45m 29.27s\n",
      "Best model from epoch 10 restored.\n"
     ]
    }
   ],
   "source": [
    "train_losses, train_accs, val_losses, val_accs = train_model(model, train_loader, val_loader,\n",
    "device,num_epochs=num_epochs,threshold=0.9,lr_patience=lr_patience,stop_patience=stop_patience)"
   ]
  },
  {
   "cell_type": "markdown",
   "metadata": {},
   "source": [
    "# C. RESULT "
   ]
  },
  {
   "cell_type": "code",
   "execution_count": 42,
   "metadata": {
    "execution": {
     "iopub.execute_input": "2025-02-24T05:18:38.248794Z",
     "iopub.status.busy": "2025-02-24T05:18:38.248415Z",
     "iopub.status.idle": "2025-02-24T05:18:38.257673Z",
     "shell.execute_reply": "2025-02-24T05:18:38.256808Z",
     "shell.execute_reply.started": "2025-02-24T05:18:38.248747Z"
    },
    "trusted": true
   },
   "outputs": [
    {
     "name": "stdout",
     "output_type": "stream",
     "text": [
      "✅ Training results saved to Lungcancer-ConvNeXt-history.csv\n"
     ]
    }
   ],
   "source": [
    "\"SAVE TRAING HISTORY TO CSV\"\n",
    "file_name = f\"{dataset_name}-{model_name}-history.csv\"\n",
    "df = pd.DataFrame({\n",
    "    \"Epoch\": list(range(1, len(train_losses) + 1)),\n",
    "    \"Train Loss\": train_losses,\n",
    "    \"Train Accuracy\": [acc * 100 for acc in train_accs],  # Chuyển acc thành %\n",
    "    \"Validation Loss\": val_losses,\n",
    "    \"Validation Accuracy\": [acc * 100 for acc in val_accs]\n",
    "})\n",
    "df.to_csv(file_name, index=False)\n",
    "\n",
    "print(f\"✅ Training results saved to {file_name}\")"
   ]
  },
  {
   "cell_type": "markdown",
   "metadata": {},
   "source": [
    "## C.1 TRAINING PLOT"
   ]
  },
  {
   "cell_type": "code",
   "execution_count": 43,
   "metadata": {
    "execution": {
     "iopub.execute_input": "2025-02-24T05:18:38.258825Z",
     "iopub.status.busy": "2025-02-24T05:18:38.258550Z",
     "iopub.status.idle": "2025-02-24T05:18:38.774843Z",
     "shell.execute_reply": "2025-02-24T05:18:38.773971Z",
     "shell.execute_reply.started": "2025-02-24T05:18:38.258791Z"
    },
    "trusted": true
   },
   "outputs": [
    {
     "name": "stdout",
     "output_type": "stream",
     "text": [
      "✅ Training process image saved to Lungcancer-ConvNeXt-trainingprocess.png\n"
     ]
    },
    {
     "data": {
      "image/png": "[encoded data removed]",
      "text/plain": [
       "<Figure size 1200x500 with 2 Axes>"
      ]
     },
     "metadata": {},
     "output_type": "display_data"
    }
   ],
   "source": [
    "file_name = f\"{dataset_name}-{model_name}-trainingprocess.png\"\n",
    "plot_metrics(train_losses, train_accs, val_losses, val_accs,file_name)"
   ]
  },
  {
   "cell_type": "markdown",
   "metadata": {},
   "source": [
    "## C.2 EVALUATION "
   ]
  },
  {
   "cell_type": "markdown",
   "metadata": {},
   "source": [
    "### C.2.1 Train / Test/Val acc+loss"
   ]
  },
  {
   "cell_type": "code",
   "execution_count": 44,
   "metadata": {
    "execution": {
     "iopub.execute_input": "2025-02-24T05:18:38.776080Z",
     "iopub.status.busy": "2025-02-24T05:18:38.775847Z",
     "iopub.status.idle": "2025-02-24T05:19:59.272148Z",
     "shell.execute_reply": "2025-02-24T05:19:59.270963Z",
     "shell.execute_reply.started": "2025-02-24T05:18:38.776056Z"
    },
    "trusted": true
   },
   "outputs": [
    {
     "name": "stdout",
     "output_type": "stream",
     "text": [
      "Train Loss: 0.0000\n",
      "Train Accuracy: 100.00%\n",
      "--------------------\n",
      "Validation Loss: 0.0004\n",
      "Validation Accuracy: 100.00%\n",
      "--------------------\n",
      "Test Loss: 0.0001\n",
      "Test Accuracy: 100.00%\n",
      "✅ Đã lưu evaluation vào Lungcancer-ConvNeXt-evaluation.txt\n"
     ]
    }
   ],
   "source": [
    "train_loss, train_acc = test_model(model, train_loader)\n",
    "val_loss, val_acc = test_model(model, val_loader)\n",
    "test_loss, test_acc = test_model(model, test_loader)\n",
    "print(f\"Train Loss: {train_loss:.4f}\")\n",
    "print(f\"Train Accuracy: {train_acc:.2f}%\")\n",
    "print('-' * 20)\n",
    "print(f\"Validation Loss: {val_loss:.4f}\")\n",
    "print(f\"Validation Accuracy: {val_acc:.2f}%\")\n",
    "print('-' * 20)\n",
    "print(f\"Test Loss: {test_loss:.4f}\")\n",
    "print(f\"Test Accuracy: {test_acc:.2f}%\")\n",
    "\n",
    "# Tạo tên file lưu kết quả\n",
    "file_name = f\"{dataset_name}-{model_name}-evaluation.txt\"\n",
    "# Ghi kết quả vào file\n",
    "with open(file_name, \"w\") as f:\n",
    "    f.write(f\"Train Loss: {train_loss:.4f}\\n\")\n",
    "    f.write(f\"Train Accuracy: {train_acc:.2f}%\\n\")\n",
    "    f.write(\"-\" * 20 + \"\\n\")\n",
    "    f.write(f\"Validation Loss: {val_loss:.4f}\\n\")\n",
    "    f.write(f\"Validation Accuracy: {val_acc:.2f}%\\n\")\n",
    "    f.write(\"-\" * 20 + \"\\n\")\n",
    "    f.write(f\"Test Loss: {test_loss:.4f}\\n\")\n",
    "    f.write(f\"Test Accuracy: {test_acc:.2f}%\\n\")\n",
    "\n",
    "print(f\"✅ Đã lưu evaluation vào {file_name}\")\n"
   ]
  },
  {
   "cell_type": "code",
   "execution_count": 45,
   "metadata": {
    "execution": {
     "iopub.execute_input": "2025-02-24T05:19:59.273522Z",
     "iopub.status.busy": "2025-02-24T05:19:59.273206Z",
     "iopub.status.idle": "2025-02-24T05:20:08.146978Z",
     "shell.execute_reply": "2025-02-24T05:20:08.146083Z",
     "shell.execute_reply.started": "2025-02-24T05:19:59.273482Z"
    },
    "trusted": true
   },
   "outputs": [
    {
     "name": "stdout",
     "output_type": "stream",
     "text": [
      "✅ Confusion matrix image saved to Lungcancer-ConvNeXt-confusion-matrix.png\n"
     ]
    },
    {
     "data": {
      "image/png": "[encoded data removed]",
      "text/plain": [
       "<Figure size 1000x1000 with 2 Axes>"
      ]
     },
     "metadata": {},
     "output_type": "display_data"
    },
    {
     "name": "stdout",
     "output_type": "stream",
     "text": [
      "                         precision    recall  f1-score   support\n",
      "\n",
      "         adenocarcinoma       1.00      1.00      1.00       467\n",
      "                 benign       1.00      1.00      1.00       518\n",
      "squamous_cell_carcinoma       1.00      1.00      1.00       515\n",
      "\n",
      "               accuracy                           1.00      1500\n",
      "              macro avg       1.00      1.00      1.00      1500\n",
      "           weighted avg       1.00      1.00      1.00      1500\n",
      "\n",
      "✅ Classification report saved to Lungcancer-ConvNeXt-classification_report.txt\n"
     ]
    }
   ],
   "source": [
    "img_name = f\"{dataset_name}-{model_name}-confusion-matrix.png\"\n",
    "file_name = f\"{dataset_name}-{model_name}-classification_report.txt\"\n",
    "class_names = test_loader.dataset.dataset.classes\n",
    "y_pred, cm, report = evaluate_model(model, test_loader, class_names,img_name,file_name)"
   ]
  },
  {
   "cell_type": "code",
   "execution_count": 46,
   "metadata": {
    "execution": {
     "iopub.execute_input": "2025-02-24T05:20:08.148329Z",
     "iopub.status.busy": "2025-02-24T05:20:08.147987Z",
     "iopub.status.idle": "2025-02-24T05:20:08.152453Z",
     "shell.execute_reply": "2025-02-24T05:20:08.151519Z",
     "shell.execute_reply.started": "2025-02-24T05:20:08.148285Z"
    },
    "trusted": true
   },
   "outputs": [],
   "source": [
    "# Lưu lại model đã fine-tuned nếu cần\n",
    "#torch.save(model.state_dict(), \"vit_small_patch16_224_finetuned.pth\")\n"
   ]
  }
 ],
 "metadata": {
  "kaggle": {
   "accelerator": "gpu",
   "dataSources": [
    {
     "datasetId": 615374,
     "sourceId": 1199870,
     "sourceType": "datasetVersion"
    },
    {
     "datasetId": 1608934,
     "sourceId": 2645886,
     "sourceType": "datasetVersion"
    },
    {
     "datasetId": 5712571,
     "sourceId": 9408268,
     "sourceType": "datasetVersion"
    }
   ],
   "dockerImageVersionId": 30919,
   "isGpuEnabled": true,
   "isInternetEnabled": true,
   "language": "python",
   "sourceType": "notebook"
  },
  "kernelspec": {
   "display_name": "Python 3",
   "language": "python",
   "name": "python3"
  },
  "language_info": {
   "codemirror_mode": {
    "name": "ipython",
    "version": 3
   },
   "file_extension": ".py",
   "mimetype": "text/x-python",
   "name": "python",
   "nbconvert_exporter": "python",
   "pygments_lexer": "ipython3",
   "version": "3.10.12"
  }
 },
 "nbformat": 4,
 "nbformat_minor": 4
}
